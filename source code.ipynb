{
 "cells": [
  {
   "cell_type": "code",
   "execution_count": 1,
   "metadata": {},
   "outputs": [],
   "source": [
    "import torch\n",
    "import librosa\n",
    "import soundfile as sf\n",
    "from transformers import pipeline\n",
    "import os\n",
    "os.environ[\"PATH\"] += os.pathsep + \"C:/ffmpeg-6.0/bin\"  # Update this path as per your installation\n"
   ]
  },
  {
   "cell_type": "code",
   "execution_count": 2,
   "metadata": {},
   "outputs": [
    {
     "name": "stderr",
     "output_type": "stream",
     "text": [
      "c:\\Users\\vishw\\AppData\\Local\\Programs\\Python\\Python312\\Lib\\site-packages\\huggingface_hub\\file_download.py:797: FutureWarning: `resume_download` is deprecated and will be removed in version 1.0.0. Downloads always resume when possible. If you want to force a new download, use `force_download=True`.\n",
      "  warnings.warn(\n",
      "Special tokens have been added in the vocabulary, make sure the associated word embeddings are fine-tuned or trained.\n"
     ]
    },
    {
     "name": "stdout",
     "output_type": "stream",
     "text": [
      "Model loaded on: CPU\n"
     ]
    }
   ],
   "source": [
    "# Check if GPU is available, otherwise use CPU\n",
    "device = 0 if torch.cuda.is_available() else \"cpu\"\n",
    "\n",
    "# Load the Whisper model from Hugging Face\n",
    "model_name = \"openai/whisper-large-v3\"\n",
    "whisper_pipe = pipeline(\"automatic-speech-recognition\", model=model_name, torch_dtype=torch.float16 if torch.cuda.is_available() else torch.float32, device=device)\n",
    "\n",
    "print(f\"Model loaded on: {'GPU' if torch.cuda.is_available() else 'CPU'}\")\n"
   ]
  },
  {
   "cell_type": "code",
   "execution_count": 3,
   "metadata": {},
   "outputs": [],
   "source": [
    "def transcribe_audio(audio_path):\n",
    "    # Load the audio file\n",
    "    audio, sr = librosa.load(audio_path, sr=16000)  # Resample to 16kHz if needed\n",
    "    temp_wav = \"temp.wav\"\n",
    "    sf.write(temp_wav, audio, sr)  # Convert to WAV format\n",
    "\n",
    "    # Transcribe the audio\n",
    "    result = whisper_pipe(temp_wav)\n",
    "    return result[\"text\"]\n"
   ]
  },
  {
   "cell_type": "code",
   "execution_count": 4,
   "metadata": {},
   "outputs": [
    {
     "name": "stdout",
     "output_type": "stream",
     "text": [
      "Transcribed Text:\n",
      "  the stale smell of old beer lingers it takes heat to bring out the odor a cold dip restores health and zest a salt pickle tastes fine with ham tacos al pastor are my favorite a zestful food is the hot cross bun\n"
     ]
    }
   ],
   "source": [
    "# Provide the path to your MP3 file\n",
    "audio_file = \"C:\\\\Users\\\\vishw\\\\Downloads\\\\harvard.mp3\"\n",
    "\n",
    "# Transcribe the audio\n",
    "transcription = transcribe_audio(audio_file)\n",
    "\n",
    "# Print the transcription\n",
    "print(\"Transcribed Text:\\n\", transcription)\n"
   ]
  }
 ],
 "metadata": {
  "kernelspec": {
   "display_name": "Python 3",
   "language": "python",
   "name": "python3"
  },
  "language_info": {
   "codemirror_mode": {
    "name": "ipython",
    "version": 3
   },
   "file_extension": ".py",
   "mimetype": "text/x-python",
   "name": "python",
   "nbconvert_exporter": "python",
   "pygments_lexer": "ipython3",
   "version": "3.12.4"
  }
 },
 "nbformat": 4,
 "nbformat_minor": 2
}
